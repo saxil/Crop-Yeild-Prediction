{
 "cells": [
  {
   "cell_type": "code",
   "execution_count": 1,
   "id": "ebabb5cb",
   "metadata": {
    "_cell_guid": "b1076dfc-b9ad-4769-8c92-a6c4dae69d19",
    "_uuid": "8f2839f25d086af736a60e9eeb907d3b93b6e0e5",
    "execution": {
     "iopub.execute_input": "2024-10-06T09:41:27.453898Z",
     "iopub.status.busy": "2024-10-06T09:41:27.453458Z",
     "iopub.status.idle": "2024-10-06T09:41:28.423302Z",
     "shell.execute_reply": "2024-10-06T09:41:28.422147Z"
    },
    "papermill": {
     "duration": 0.978061,
     "end_time": "2024-10-06T09:41:28.426167",
     "exception": false,
     "start_time": "2024-10-06T09:41:27.448106",
     "status": "completed"
    },
    "tags": []
   },
   "outputs": [
    {
     "name": "stdout",
     "output_type": "stream",
     "text": [
      "/kaggle/input/crop-yield-prediction-dataset/yield_df.csv\n"
     ]
    }
   ],
   "source": [
    "# This Python 3 environment comes with many helpful analytics libraries installed\n",
    "# It is defined by the kaggle/python Docker image: https://github.com/kaggle/docker-python\n",
    "# For example, here's several helpful packages to load\n",
    "\n",
    "import numpy as np # linear algebra\n",
    "import pandas as pd # data processing, CSV file I/O (e.g. pd.read_csv)\n",
    "\n",
    "# Input data files are available in the read-only \"../input/\" directory\n",
    "# For example, running this (by clicking run or pressing Shift+Enter) will list all files under the input directory\n",
    "\n",
    "import os\n",
    "for dirname, _, filenames in os.walk('/kaggle/input'):\n",
    "    for filename in filenames:\n",
    "        print(os.path.join(dirname, filename))\n",
    "\n",
    "# You can write up to 20GB to the current directory (/kaggle/working/) that gets preserved as output when you create a version using \"Save & Run All\" \n",
    "# You can also write temporary files to /kaggle/temp/, but they won't be saved outside of the current session"
   ]
  },
  {
   "cell_type": "code",
   "execution_count": 2,
   "id": "5382a5b3",
   "metadata": {
    "execution": {
     "iopub.execute_input": "2024-10-06T09:41:28.435575Z",
     "iopub.status.busy": "2024-10-06T09:41:28.434989Z",
     "iopub.status.idle": "2024-10-06T09:41:30.593271Z",
     "shell.execute_reply": "2024-10-06T09:41:30.592041Z"
    },
    "papermill": {
     "duration": 2.166173,
     "end_time": "2024-10-06T09:41:30.596212",
     "exception": false,
     "start_time": "2024-10-06T09:41:28.430039",
     "status": "completed"
    },
    "tags": []
   },
   "outputs": [],
   "source": [
    "import pandas as pd\n",
    "from sklearn.model_selection import train_test_split\n",
    "from sklearn.ensemble import RandomForestRegressor\n",
    "from sklearn.preprocessing import LabelEncoder\n",
    "from sklearn.metrics import mean_absolute_error, mean_squared_error\n",
    "import pandas as pd\n",
    "from sklearn.model_selection import train_test_split\n",
    "from sklearn.preprocessing import LabelEncoder\n",
    "from sklearn.metrics import mean_absolute_error, mean_squared_error\n",
    "import xgboost as xgb\n",
    "\n",
    "# Load the dataset\n",
    "file_path = '/kaggle/input/crop-yield-prediction-dataset/yield_df.csv'\n",
    "data = pd.read_csv(file_path)"
   ]
  },
  {
   "cell_type": "code",
   "execution_count": 3,
   "id": "f54c48a5",
   "metadata": {
    "execution": {
     "iopub.execute_input": "2024-10-06T09:41:30.605278Z",
     "iopub.status.busy": "2024-10-06T09:41:30.604326Z",
     "iopub.status.idle": "2024-10-06T09:41:37.837996Z",
     "shell.execute_reply": "2024-10-06T09:41:37.836926Z"
    },
    "papermill": {
     "duration": 7.240955,
     "end_time": "2024-10-06T09:41:37.840701",
     "exception": false,
     "start_time": "2024-10-06T09:41:30.599746",
     "status": "completed"
    },
    "tags": []
   },
   "outputs": [
    {
     "name": "stdout",
     "output_type": "stream",
     "text": [
      "Random Forest - Score:0.9857081655966298 MAE: 3752.47717472119, MSE: 103668278.62397456, RMSE: 10181.762058896022\n"
     ]
    }
   ],
   "source": [
    "# Preprocessing: Label encoding for categorical features\n",
    "label_encoder_area = LabelEncoder()\n",
    "label_encoder_item = LabelEncoder()\n",
    "\n",
    "data['Area'] = label_encoder_area.fit_transform(data['Area'])\n",
    "data['Item'] = label_encoder_item.fit_transform(data['Item'])\n",
    "\n",
    "# Features and target\n",
    "X = data.drop(columns=['Unnamed: 0', 'hg/ha_yield'])\n",
    "y = data['hg/ha_yield']\n",
    "\n",
    "# Split data into training and testing sets\n",
    "X_train, X_test, y_train, y_test = train_test_split(X, y, test_size=0.2, random_state=42)\n",
    "\n",
    "# Initialize and train Random Forest model\n",
    "rf_model = RandomForestRegressor(n_estimators=100, random_state=42)\n",
    "rf_model.fit(X_train, y_train)\n",
    "\n",
    "# Make predictions on the test set\n",
    "y_pred_rf = rf_model.predict(X_test)\n",
    "\n",
    "# Calculate performance metrics\n",
    "rf_mae = mean_absolute_error(y_test, y_pred_rf)\n",
    "rf_mse = mean_squared_error(y_test, y_pred_rf)\n",
    "rf_rmse = mean_squared_error(y_test, y_pred_rf, squared=False)\n",
    "\n",
    "# Output performance metrics\n",
    "print(f'Random Forest - Score:{rf_model.score(X_test, y_test)} MAE: {rf_mae}, MSE: {rf_mse}, RMSE: {rf_rmse}')\n"
   ]
  },
  {
   "cell_type": "code",
   "execution_count": 4,
   "id": "d8ac590e",
   "metadata": {
    "execution": {
     "iopub.execute_input": "2024-10-06T09:41:37.849157Z",
     "iopub.status.busy": "2024-10-06T09:41:37.848733Z",
     "iopub.status.idle": "2024-10-06T09:41:38.151255Z",
     "shell.execute_reply": "2024-10-06T09:41:38.150208Z"
    },
    "papermill": {
     "duration": 0.31015,
     "end_time": "2024-10-06T09:41:38.154293",
     "exception": false,
     "start_time": "2024-10-06T09:41:37.844143",
     "status": "completed"
    },
    "tags": []
   },
   "outputs": [
    {
     "name": "stdout",
     "output_type": "stream",
     "text": [
      "XGBoost - Score:0.9606483886520134 ,MAE: 9803.330717173567, MSE: 285443680.2432746, RMSE: 16895.07858055933\n"
     ]
    }
   ],
   "source": [
    "# Preprocessing: Label encoding for categorical features\n",
    "label_encoder_area = LabelEncoder()\n",
    "label_encoder_item = LabelEncoder()\n",
    "\n",
    "data['Area'] = label_encoder_area.fit_transform(data['Area'])\n",
    "data['Item'] = label_encoder_item.fit_transform(data['Item'])\n",
    "\n",
    "# Features and target\n",
    "X = data.drop(columns=['Unnamed: 0', 'hg/ha_yield'])\n",
    "y = data['hg/ha_yield']\n",
    "\n",
    "# Split data into training and testing sets\n",
    "X_train, X_test, y_train, y_test = train_test_split(X, y, test_size=0.2, random_state=42)\n",
    "\n",
    "# Initialize and train XGBoost model\n",
    "xgb_model = xgb.XGBRegressor(n_estimators=100, learning_rate=0.1, random_state=42)\n",
    "xgb_model.fit(X_train, y_train)\n",
    "\n",
    "# Make predictions on the test set\n",
    "y_pred_xgb = xgb_model.predict(X_test)\n",
    "\n",
    "# Calculate performance metrics\n",
    "xgb_mae = mean_absolute_error(y_test, y_pred_xgb)\n",
    "xgb_mse = mean_squared_error(y_test, y_pred_xgb)\n",
    "xgb_rmse = mean_squared_error(y_test, y_pred_xgb, squared=False)\n",
    "\n",
    "# Output performance metrics\n",
    "print(f'XGBoost - Score:{xgb_model.score(X_test, y_test)} ,MAE: {xgb_mae}, MSE: {xgb_mse}, RMSE: {xgb_rmse}')\n"
   ]
  },
  {
   "cell_type": "markdown",
   "id": "6783aac1",
   "metadata": {
    "papermill": {
     "duration": 0.003742,
     "end_time": "2024-10-06T09:41:38.162014",
     "exception": false,
     "start_time": "2024-10-06T09:41:38.158272",
     "status": "completed"
    },
    "tags": []
   },
   "source": [
    "Random Forest Classifier has more accuracy with less MAE,MSE and RMSE."
   ]
  },
  {
   "cell_type": "code",
   "execution_count": null,
   "id": "ea2dfc0e",
   "metadata": {
    "papermill": {
     "duration": 0.003002,
     "end_time": "2024-10-06T09:41:38.168618",
     "exception": false,
     "start_time": "2024-10-06T09:41:38.165616",
     "status": "completed"
    },
    "tags": []
   },
   "outputs": [],
   "source": []
  }
 ],
 "metadata": {
  "kaggle": {
   "accelerator": "none",
   "dataSources": [
    {
     "datasetId": 5679343,
     "sourceId": 9365691,
     "sourceType": "datasetVersion"
    }
   ],
   "dockerImageVersionId": 30786,
   "isGpuEnabled": false,
   "isInternetEnabled": false,
   "language": "python",
   "sourceType": "notebook"
  },
  "kernelspec": {
   "display_name": "Python 3",
   "language": "python",
   "name": "python3"
  },
  "language_info": {
   "codemirror_mode": {
    "name": "ipython",
    "version": 3
   },
   "file_extension": ".py",
   "mimetype": "text/x-python",
   "name": "python",
   "nbconvert_exporter": "python",
   "pygments_lexer": "ipython3",
   "version": "3.10.14"
  },
  "papermill": {
   "default_parameters": {},
   "duration": 14.573581,
   "end_time": "2024-10-06T09:41:38.893886",
   "environment_variables": {},
   "exception": null,
   "input_path": "__notebook__.ipynb",
   "output_path": "__notebook__.ipynb",
   "parameters": {},
   "start_time": "2024-10-06T09:41:24.320305",
   "version": "2.6.0"
  }
 },
 "nbformat": 4,
 "nbformat_minor": 5
}
